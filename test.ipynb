{
 "cells": [
  {
   "cell_type": "markdown",
   "metadata": {},
   "source": [
    "![图](https://pic3.zhimg.com/v2-c306ddb2364a8ff5dfb58b42dac65d98_r.jpg)\n",
    "函数：\n",
    "$$\n",
    "f(x_1, x_2) = ln(x_1) + x_1 \\times x_2 - sin(x_2) \\\\\n",
    "\\frac{d_y}{d_{x_1}} = \\frac{1}{x_1} + x_2 \\\\\n",
    "\\frac{d_y}{d_{x_2}} = x_1 - cos(x_2)\n",
    "$$\n",
    "\n"
   ]
  },
  {
   "cell_type": "code",
   "execution_count": null,
   "metadata": {},
   "outputs": [
    {
     "name": "stdout",
     "output_type": "stream",
     "text": [
      "Node 6 : [2.0] Identity = 2.0, and grad: 0.000\n",
      "Node 7 : [5.0] Identity = 5.0, and grad: 0.000\n",
      "Node 8 : [2.0] Ln = 0.6931471805599453, and grad: 0.000\n",
      "Node 9 : [2.0, 5.0] Mul = 10.0, and grad: 0.000\n",
      "Node 10 : [0.6931471805599453, 10.0] Add = 10.693147180559945, and grad: 0.000\n",
      "Node 11 : [5.0] Sin = -0.9589242746631385, and grad: 0.000\n",
      "Node 12 : [10.693147180559945, -0.9589242746631385] Sub = 11.652071455223084, and grad: 0.000\n",
      "Evaluation order:\n",
      "evaluating node:  Node 6 : [2.0] Identity = 2.0, and grad: 0.000\n",
      "evaluating node:  Node 8 : [2.0] Ln = 0.6931471805599453, and grad: 0.000\n",
      "evaluating node:  Node 7 : [5.0] Identity = 5.0, and grad: 0.000\n",
      "evaluating node:  Node 9 : [2.0, 5.0] Mul = 10.0, and grad: 0.000\n",
      "evaluating node:  Node 10 : [0.6931471805599453, 10.0] Add = 10.693147180559945, and grad: 0.000\n",
      "evaluating node:  Node 11 : [5.0] Sin = -0.9589242746631385, and grad: 0.000\n",
      "evaluating node:  Node 12 : [10.693147180559945, -0.9589242746631385] Sub = 11.652071455223084, and grad: 0.000\n",
      "y=11.652\n"
     ]
    }
   ],
   "source": [
    "from autodiff import *\n",
    "# 开始验证程序\n",
    "\n",
    "add, mul, ln, sin, sub, identity = AddOp(), MulOp(), LnOp(), SinOp(), SubOp(), IdentityOp()\n",
    "x1, x2 = identity(2.0), identity(5.0)\n",
    "y = sub(add(ln(x1), mul(x1, x2)), sin(x2))\n",
    "ex = Executor(y)\n",
    "print(\"y=%.3f\" % ex.run())\n"
   ]
  },
  {
   "cell_type": "code",
   "execution_count": 4,
   "metadata": {},
   "outputs": [
    {
     "name": "stdout",
     "output_type": "stream",
     "text": [
      "Gradients computed:\n",
      "\n",
      "\n",
      "Node 12 : [10.693147180559945, -0.9589242746631385] Sub = 11.652071455223084, and grad: 1.000\n",
      "Node 11 : [5.0] Sin = -0.9589242746631385, and grad: -1.000\n",
      "Node 10 : [0.6931471805599453, 10.0] Add = 10.693147180559945, and grad: 1.000\n",
      "Node 9 : [2.0, 5.0] Mul = 10.0, and grad: 1.000\n",
      "Node 7 : [5.0] Identity = 5.0, and grad: 1.716\n",
      "Node 8 : [2.0] Ln = 0.6931471805599453, and grad: 1.000\n",
      "Node 6 : [2.0] Identity = 2.0, and grad: 5.500\n",
      "x1.grad=5.500\n",
      "x2.grad=1.716\n"
     ]
    }
   ],
   "source": [
    "ex.gradients() # 反向计算 自动微分\n",
    "print(\"x1.grad=%.3f\" % x1.grad)\n",
    "print(\"x2.grad=%.3f\" % x2.grad)"
   ]
  }
 ],
 "metadata": {
  "kernelspec": {
   "display_name": "base",
   "language": "python",
   "name": "python3"
  },
  "language_info": {
   "codemirror_mode": {
    "name": "ipython",
    "version": 3
   },
   "file_extension": ".py",
   "mimetype": "text/x-python",
   "name": "python",
   "nbconvert_exporter": "python",
   "pygments_lexer": "ipython3",
   "version": "3.10.9"
  }
 },
 "nbformat": 4,
 "nbformat_minor": 2
}
